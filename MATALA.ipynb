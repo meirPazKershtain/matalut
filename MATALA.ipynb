{
 "cells": [
  {
   "cell_type": "markdown",
   "id": "minor-collector",
   "metadata": {},
   "source": [
    "Q1"
   ]
  },
  {
   "cell_type": "code",
   "execution_count": 3,
   "id": "useful-premises",
   "metadata": {},
   "outputs": [
    {
     "name": "stderr",
     "output_type": "stream",
     "text": [
      "<ipython-input-3-f1cfa9ebd408>:14: SettingWithCopyWarning: \n",
      "A value is trying to be set on a copy of a slice from a DataFrame\n",
      "\n",
      "See the caveats in the documentation: https://pandas.pydata.org/pandas-docs/stable/user_guide/indexing.html#returning-a-view-versus-a-copy\n",
      "  data.duration_to_next_event[len(data)-1]=0\n"
     ]
    }
   ],
   "source": [
    "import pandas as pd\n",
    "import numpy as np\n",
    "import matplotlib.pyplot as plt\n",
    "from tkinter import filedialog\n",
    "from datetime import datetime\n",
    "import re\n",
    "\n",
    "def slove_str_problemQ1 (a):\n",
    "    y = re.findall('([0-9-: ]+)',a)\n",
    "    return y[0]\n",
    "def replace_time(event_time):\n",
    "    event_time = datetime.strptime(event_time, '%Y-%m-%d %H:%M:%S ')\n",
    "    return event_time\n",
    "def calculate_time(event_time):\n",
    "    return event_time.total_seconds()\n",
    "\n",
    "data['event_time']=data['event_time'].apply(slove_str_problemQ1)\n",
    "data['duration_to_next_event']=data['event_time'].apply(replace_time)\n",
    "data.duration_to_next_event = data.duration_to_next_event.diff(periods=-1).abs()\n",
    "data['duration_to_next_event']=data['duration_to_next_event'].apply(calculate_time)\n",
    "data.duration_to_next_event[len(data)-1]=0"
   ]
  },
  {
   "cell_type": "markdown",
   "id": "macro-angola",
   "metadata": {},
   "source": [
    "Q2"
   ]
  },
  {
   "cell_type": "code",
   "execution_count": 4,
   "id": "light-provider",
   "metadata": {},
   "outputs": [],
   "source": [
    "def slove_str_problemQ2 (a):\n",
    "    y = re.findall('([0-9-]+)',a)\n",
    "    return replace_timeQ2(y[0])\n",
    "def replace_timeQ2(event_time):\n",
    "    event_time = datetime.strptime(event_time, '%Y-%m-%d')\n",
    "    return event_time\n",
    "def culculate_funnel (day,idf):\n",
    "    global funnul\n",
    "    if (idf==0):\n",
    "        if( day.days>5 ):\n",
    "            funnul =funnul+1\n",
    "            return funnul\n",
    "        else:\n",
    "            return int(funnul)\n",
    "    if (idf != 0) :\n",
    "        funnul=1\n",
    "        return int(funnul)\n",
    "\n",
    "q2=data[['event_time','user_id','user_session']]\n",
    "q2=q2.sort_values(by=['user_id','event_time'])\n",
    "qq2=q2.reset_index()\n",
    "qq2['funnel']=qq2['event_time'].apply(slove_str_problemQ2)\n",
    "qq2['funnel_diff']=qq2['funnel'].diff(periods=1)\n",
    "qq2['id_diff']=qq2['user_id'].diff(periods=-1)\n",
    "qq2['funnel']=qq2.apply( lambda row: culculate_funnel(row['funnel_diff'],row['id_diff']), axis=1)"
   ]
  },
  {
   "cell_type": "markdown",
   "id": "straight-means",
   "metadata": {},
   "source": [
    "Q3"
   ]
  },
  {
   "cell_type": "code",
   "execution_count": 5,
   "id": "changing-browser",
   "metadata": {},
   "outputs": [],
   "source": [
    "index_funnel= 1\n",
    "Pfunnel =0\n",
    "def culculate_index_in_funnel (funnel,session,Psession,id_diff):\n",
    "    global Pfunnel\n",
    "    global index_funnel\n",
    "    if ( funnel == Pfunnel and id_diff==0 ):\n",
    "        Pfunnel = funnel\n",
    "        if (session != Psession ):\n",
    "            index_funnel=index_funnel+1\n",
    "            return index_funnel\n",
    "        else :\n",
    "            return index_funnel\n",
    "    index_funnel = 1\n",
    "    Pfunnel = funnel\n",
    "    return index_funnel \n",
    "\n",
    "\n",
    "\n",
    "qq2['previous_user_session']=qq2.user_session.shift(periods=1)\n",
    "qq2['id_diff']=qq2['user_id'].diff(periods=1)\n",
    "qq2['index_in_funnel'] = qq2.apply( lambda row: culculate_index_in_funnel (row['funnel'],row['user_session'],row['previous_user_session'],row['id_diff']), axis=1 )"
   ]
  },
  {
   "cell_type": "markdown",
   "id": "banner-guyana",
   "metadata": {},
   "source": [
    "Q4"
   ]
  },
  {
   "cell_type": "code",
   "execution_count": 6,
   "id": "derived-support",
   "metadata": {},
   "outputs": [
    {
     "ename": "TypeError",
     "evalue": "expected string or bytes-like object",
     "output_type": "error",
     "traceback": [
      "\u001b[1;31m---------------------------------------------------------------------------\u001b[0m",
      "\u001b[1;31mTypeError\u001b[0m                                 Traceback (most recent call last)",
      "\u001b[1;32m<ipython-input-6-c400493c212b>\u001b[0m in \u001b[0;36m<module>\u001b[1;34m\u001b[0m\n\u001b[0;32m      2\u001b[0m     \u001b[0my\u001b[0m \u001b[1;33m=\u001b[0m \u001b[0mfloat\u001b[0m\u001b[1;33m(\u001b[0m\u001b[0mre\u001b[0m\u001b[1;33m.\u001b[0m\u001b[0mfindall\u001b[0m\u001b[1;33m(\u001b[0m\u001b[1;34m'([0-9]+.[0-9]+)'\u001b[0m\u001b[1;33m,\u001b[0m\u001b[0ma\u001b[0m\u001b[1;33m)\u001b[0m\u001b[1;33m[\u001b[0m\u001b[1;36m0\u001b[0m\u001b[1;33m]\u001b[0m\u001b[1;33m)\u001b[0m\u001b[1;33m\u001b[0m\u001b[1;33m\u001b[0m\u001b[0m\n\u001b[0;32m      3\u001b[0m     \u001b[1;32mreturn\u001b[0m \u001b[0my\u001b[0m\u001b[1;33m\u001b[0m\u001b[1;33m\u001b[0m\u001b[0m\n\u001b[1;32m----> 4\u001b[1;33m \u001b[0mdata\u001b[0m\u001b[1;33m[\u001b[0m\u001b[1;34m'price'\u001b[0m\u001b[1;33m]\u001b[0m\u001b[1;33m=\u001b[0m\u001b[0mdata\u001b[0m\u001b[1;33m[\u001b[0m\u001b[1;34m'price'\u001b[0m\u001b[1;33m]\u001b[0m\u001b[1;33m.\u001b[0m\u001b[0mapply\u001b[0m\u001b[1;33m(\u001b[0m\u001b[0mslove_str_problem\u001b[0m\u001b[1;33m)\u001b[0m\u001b[1;33m\u001b[0m\u001b[1;33m\u001b[0m\u001b[0m\n\u001b[0m",
      "\u001b[1;32mc:\\users\\פדות אורלינסקי\\desktop\\lib\\site-packages\\pandas\\core\\series.py\u001b[0m in \u001b[0;36mapply\u001b[1;34m(self, func, convert_dtype, args, **kwargs)\u001b[0m\n\u001b[0;32m   4629\u001b[0m         \u001b[0mdtype\u001b[0m\u001b[1;33m:\u001b[0m \u001b[0mfloat64\u001b[0m\u001b[1;33m\u001b[0m\u001b[1;33m\u001b[0m\u001b[0m\n\u001b[0;32m   4630\u001b[0m         \"\"\"\n\u001b[1;32m-> 4631\u001b[1;33m         \u001b[1;32mreturn\u001b[0m \u001b[0mSeriesApply\u001b[0m\u001b[1;33m(\u001b[0m\u001b[0mself\u001b[0m\u001b[1;33m,\u001b[0m \u001b[0mfunc\u001b[0m\u001b[1;33m,\u001b[0m \u001b[0mconvert_dtype\u001b[0m\u001b[1;33m,\u001b[0m \u001b[0margs\u001b[0m\u001b[1;33m,\u001b[0m \u001b[0mkwargs\u001b[0m\u001b[1;33m)\u001b[0m\u001b[1;33m.\u001b[0m\u001b[0mapply\u001b[0m\u001b[1;33m(\u001b[0m\u001b[1;33m)\u001b[0m\u001b[1;33m\u001b[0m\u001b[1;33m\u001b[0m\u001b[0m\n\u001b[0m\u001b[0;32m   4632\u001b[0m \u001b[1;33m\u001b[0m\u001b[0m\n\u001b[0;32m   4633\u001b[0m     def _reduce(\n",
      "\u001b[1;32mc:\\users\\פדות אורלינסקי\\desktop\\lib\\site-packages\\pandas\\core\\apply.py\u001b[0m in \u001b[0;36mapply\u001b[1;34m(self)\u001b[0m\n\u001b[0;32m   1023\u001b[0m \u001b[1;33m\u001b[0m\u001b[0m\n\u001b[0;32m   1024\u001b[0m         \u001b[1;31m# self.f is Callable\u001b[0m\u001b[1;33m\u001b[0m\u001b[1;33m\u001b[0m\u001b[1;33m\u001b[0m\u001b[0m\n\u001b[1;32m-> 1025\u001b[1;33m         \u001b[1;32mreturn\u001b[0m \u001b[0mself\u001b[0m\u001b[1;33m.\u001b[0m\u001b[0mapply_standard\u001b[0m\u001b[1;33m(\u001b[0m\u001b[1;33m)\u001b[0m\u001b[1;33m\u001b[0m\u001b[1;33m\u001b[0m\u001b[0m\n\u001b[0m\u001b[0;32m   1026\u001b[0m \u001b[1;33m\u001b[0m\u001b[0m\n\u001b[0;32m   1027\u001b[0m     \u001b[1;32mdef\u001b[0m \u001b[0magg\u001b[0m\u001b[1;33m(\u001b[0m\u001b[0mself\u001b[0m\u001b[1;33m)\u001b[0m\u001b[1;33m:\u001b[0m\u001b[1;33m\u001b[0m\u001b[1;33m\u001b[0m\u001b[0m\n",
      "\u001b[1;32mc:\\users\\פדות אורלינסקי\\desktop\\lib\\site-packages\\pandas\\core\\apply.py\u001b[0m in \u001b[0;36mapply_standard\u001b[1;34m(self)\u001b[0m\n\u001b[0;32m   1074\u001b[0m             \u001b[1;32melse\u001b[0m\u001b[1;33m:\u001b[0m\u001b[1;33m\u001b[0m\u001b[1;33m\u001b[0m\u001b[0m\n\u001b[0;32m   1075\u001b[0m                 \u001b[0mvalues\u001b[0m \u001b[1;33m=\u001b[0m \u001b[0mobj\u001b[0m\u001b[1;33m.\u001b[0m\u001b[0mastype\u001b[0m\u001b[1;33m(\u001b[0m\u001b[0mobject\u001b[0m\u001b[1;33m)\u001b[0m\u001b[1;33m.\u001b[0m\u001b[0m_values\u001b[0m\u001b[1;33m\u001b[0m\u001b[1;33m\u001b[0m\u001b[0m\n\u001b[1;32m-> 1076\u001b[1;33m                 mapped = lib.map_infer(\n\u001b[0m\u001b[0;32m   1077\u001b[0m                     \u001b[0mvalues\u001b[0m\u001b[1;33m,\u001b[0m\u001b[1;33m\u001b[0m\u001b[1;33m\u001b[0m\u001b[0m\n\u001b[0;32m   1078\u001b[0m                     \u001b[0mf\u001b[0m\u001b[1;33m,\u001b[0m\u001b[1;33m\u001b[0m\u001b[1;33m\u001b[0m\u001b[0m\n",
      "\u001b[1;32mc:\\users\\פדות אורלינסקי\\desktop\\lib\\site-packages\\pandas\\_libs\\lib.pyx\u001b[0m in \u001b[0;36mpandas._libs.lib.map_infer\u001b[1;34m()\u001b[0m\n",
      "\u001b[1;32m<ipython-input-6-c400493c212b>\u001b[0m in \u001b[0;36mslove_str_problem\u001b[1;34m(a)\u001b[0m\n\u001b[0;32m      1\u001b[0m \u001b[1;32mdef\u001b[0m \u001b[0mslove_str_problem\u001b[0m \u001b[1;33m(\u001b[0m\u001b[0ma\u001b[0m\u001b[1;33m)\u001b[0m\u001b[1;33m:\u001b[0m\u001b[1;33m\u001b[0m\u001b[1;33m\u001b[0m\u001b[0m\n\u001b[1;32m----> 2\u001b[1;33m     \u001b[0my\u001b[0m \u001b[1;33m=\u001b[0m \u001b[0mfloat\u001b[0m\u001b[1;33m(\u001b[0m\u001b[0mre\u001b[0m\u001b[1;33m.\u001b[0m\u001b[0mfindall\u001b[0m\u001b[1;33m(\u001b[0m\u001b[1;34m'([0-9]+.[0-9]+)'\u001b[0m\u001b[1;33m,\u001b[0m\u001b[0ma\u001b[0m\u001b[1;33m)\u001b[0m\u001b[1;33m[\u001b[0m\u001b[1;36m0\u001b[0m\u001b[1;33m]\u001b[0m\u001b[1;33m)\u001b[0m\u001b[1;33m\u001b[0m\u001b[1;33m\u001b[0m\u001b[0m\n\u001b[0m\u001b[0;32m      3\u001b[0m     \u001b[1;32mreturn\u001b[0m \u001b[0my\u001b[0m\u001b[1;33m\u001b[0m\u001b[1;33m\u001b[0m\u001b[0m\n\u001b[0;32m      4\u001b[0m \u001b[0mdata\u001b[0m\u001b[1;33m[\u001b[0m\u001b[1;34m'price'\u001b[0m\u001b[1;33m]\u001b[0m\u001b[1;33m=\u001b[0m\u001b[0mdata\u001b[0m\u001b[1;33m[\u001b[0m\u001b[1;34m'price'\u001b[0m\u001b[1;33m]\u001b[0m\u001b[1;33m.\u001b[0m\u001b[0mapply\u001b[0m\u001b[1;33m(\u001b[0m\u001b[0mslove_str_problem\u001b[0m\u001b[1;33m)\u001b[0m\u001b[1;33m\u001b[0m\u001b[1;33m\u001b[0m\u001b[0m\n",
      "\u001b[1;32mc:\\users\\פדות אורלינסקי\\desktop\\lib\\re.py\u001b[0m in \u001b[0;36mfindall\u001b[1;34m(pattern, string, flags)\u001b[0m\n\u001b[0;32m    239\u001b[0m \u001b[1;33m\u001b[0m\u001b[0m\n\u001b[0;32m    240\u001b[0m     Empty matches are included in the result.\"\"\"\n\u001b[1;32m--> 241\u001b[1;33m     \u001b[1;32mreturn\u001b[0m \u001b[0m_compile\u001b[0m\u001b[1;33m(\u001b[0m\u001b[0mpattern\u001b[0m\u001b[1;33m,\u001b[0m \u001b[0mflags\u001b[0m\u001b[1;33m)\u001b[0m\u001b[1;33m.\u001b[0m\u001b[0mfindall\u001b[0m\u001b[1;33m(\u001b[0m\u001b[0mstring\u001b[0m\u001b[1;33m)\u001b[0m\u001b[1;33m\u001b[0m\u001b[1;33m\u001b[0m\u001b[0m\n\u001b[0m\u001b[0;32m    242\u001b[0m \u001b[1;33m\u001b[0m\u001b[0m\n\u001b[0;32m    243\u001b[0m \u001b[1;32mdef\u001b[0m \u001b[0mfinditer\u001b[0m\u001b[1;33m(\u001b[0m\u001b[0mpattern\u001b[0m\u001b[1;33m,\u001b[0m \u001b[0mstring\u001b[0m\u001b[1;33m,\u001b[0m \u001b[0mflags\u001b[0m\u001b[1;33m=\u001b[0m\u001b[1;36m0\u001b[0m\u001b[1;33m)\u001b[0m\u001b[1;33m:\u001b[0m\u001b[1;33m\u001b[0m\u001b[1;33m\u001b[0m\u001b[0m\n",
      "\u001b[1;31mTypeError\u001b[0m: expected string or bytes-like object"
     ]
    }
   ],
   "source": [
    "def slove_str_problem (a):\n",
    "    y = float(re.findall('([0-9]+.[0-9]+)',a)[0])\n",
    "    return y\n",
    "data['price']=data['price'].apply(slove_str_problem)"
   ]
  },
  {
   "cell_type": "markdown",
   "id": "sexual-narrow",
   "metadata": {},
   "source": [
    "Q5"
   ]
  },
  {
   "cell_type": "code",
   "execution_count": 7,
   "id": "happy-movie",
   "metadata": {},
   "outputs": [
    {
     "data": {
      "image/png": "[encoded data removed]",
      "text/plain": [
       "<Figure size 432x288 with 1 Axes>"
      ]
     },
     "metadata": {
      "needs_background": "light"
     },
     "output_type": "display_data"
    }
   ],
   "source": [
    "b=data['event_type'].value_counts()\n",
    "b=b.reset_index()\n",
    "ax = b.plot.bar(x='event_type', y='count', rot=0)"
   ]
  },
  {
   "cell_type": "markdown",
   "id": "grand-hartford",
   "metadata": {},
   "source": [
    "Q6"
   ]
  },
  {
   "cell_type": "code",
   "execution_count": 8,
   "id": "altered-think",
   "metadata": {},
   "outputs": [],
   "source": [
    "q6=qq2.sort_values(by=['index'])\n",
    "qq6=q6.reset_index()\n",
    "qq6=qq6.drop(columns=['index', 'level_0','previous_user_session','id_diff','funnel_diff'])\n",
    "qq6['event_time']=qq6['event_time'].apply(slove_str_problemQ1)\n",
    "qq6['event_time']=qq6['event_time'].apply(replace_time)\n",
    "QQ6=qq6.groupby(by=['user_id','user_session','funnel','index_in_funnel']).count()\n",
    "Q6=QQ6.reset_index()\n",
    "qq6['duration']=data.duration_to_next_event\n",
    "qq6f=qq6.drop(columns=['event_time'])\n",
    "Q6F=qq6f.groupby(by=['user_id','user_session','funnel','index_in_funnel']).sum()\n",
    "QQ6F=Q6F.reset_index()\n",
    "\n",
    "def is_exsist(exsist, product_id):\n",
    "    if ( exsist == True):\n",
    "        return str(product_id)\n",
    "    else :\n",
    "        return None\n",
    "\n",
    "q=pd.get_dummies(data.event_type)\n",
    "qq6g=qq6f.drop(columns=['duration'])\n",
    "qq6g['view']=q['view']\n",
    "qq6g['product_id']=data.product_id\n",
    "qq6g['list_of_view']=qq6g.apply( lambda row: is_exsist(row['view'],row['product_id']), axis=1)\n",
    "qq6g=qq6g.drop(columns=['view','product_id'])\n",
    "Q6G = qq6g.groupby(by=['user_id','funnel','index_in_funnel','user_session']).agg (lambda x: list(x))\n",
    "QQ6G=Q6G.reset_index()\n",
    "\n",
    "qq6h=qq6g.drop(columns=['list_of_view'])\n",
    "qq6h['cart']=q['cart']\n",
    "qq6h['product_id']=data.product_id\n",
    "qq6h['list_of_added_to_car']=qq6h.apply( lambda row: is_exsist(row['cart'],row['product_id']), axis=1)\n",
    "qq6h=qq6h.drop(columns=['cart','product_id'])\n",
    "Q6H=qq6h.groupby(by=['user_id','user_session','funnel','index_in_funnel']).agg (lambda x: list(x))\n",
    "QQ6H=Q6H.reset_index()\n",
    "\n",
    "qq6i=qq6h.drop(columns=['list_of_added_to_car'])\n",
    "qq6i['purchase']=q['purchase']\n",
    "qq6i['product_id']=data.product_id\n",
    "qq6i['list_of_purchase']=qq6i.apply( lambda row: is_exsist(row['purchase'],row['product_id']), axis=1)\n",
    "qq6i=qq6i.drop(columns=['purchase','product_id'])\n",
    "Q6I=qq6i.groupby(by=['user_id','user_session','funnel','index_in_funnel']).agg (lambda x: list(x))\n",
    "QQ6I=Q6I.reset_index()\n",
    "\n",
    "Q6['duration']=QQ6F['duration']\n",
    "Q6['list_of_view']=QQ6G['list_of_view']\n",
    "Q6['list_of_added_to_car']=QQ6H['list_of_added_to_car']\n",
    "Q6['list_of_purchase']=QQ6I['list_of_purchase']\n",
    "session_data=Q6"
   ]
  },
  {
   "cell_type": "code",
   "execution_count": null,
   "id": "welsh-broadway",
   "metadata": {},
   "outputs": [],
   "source": []
  }
 ],
 "metadata": {
  "kernelspec": {
   "display_name": "Python 3",
   "language": "python",
   "name": "python3"
  },
  "language_info": {
   "codemirror_mode": {
    "name": "ipython",
    "version": 3
   },
   "file_extension": ".py",
   "mimetype": "text/x-python",
   "name": "python",
   "nbconvert_exporter": "python",
   "pygments_lexer": "ipython3",
   "version": "3.9.0"
  }
 },
 "nbformat": 4,
 "nbformat_minor": 5
}
