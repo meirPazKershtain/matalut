{
 "cells": [
  {
   "cell_type": "code",
   "execution_count": 95,
   "id": "gorgeous-modem",
   "metadata": {},
   "outputs": [],
   "source": [
    "import pandas as pd\n",
    "import numpy as np\n",
    "import matplotlib.pyplot as plt\n",
    "import requests\n",
    "from tkinter import filedialog\n",
    "data = pd.read_csv(filedialog.askopenfilename(),header=None)\n",
    "api_key=\"API\"\n",
    "address=\" Tel Aviv\"\n",
    "\n",
    "def D_D (place):\n",
    "    url=\"https://maps.googleapis.com/maps/api/distancematrix/json?origins=%s&destinations=%s&key=%s\" % (address,place,api_key)\n",
    "    response = requests.get(url).json()\n",
    "    distance = response['rows'][0]['elements'][0]['distance']['text']\n",
    "    duration = response['rows'][0]['elements'][0]['duration']['text']\n",
    "    return (distance,duration)\n",
    "\n",
    "def L_L (place):\n",
    "    url1=\"https://maps.googleapis.com/maps/api/geocode/json?address=%s&key=%s\" % (place,api_key)\n",
    "    response1 = requests.get(url1).json() \n",
    "    lat = response1['results'][0]['geometry']['bounds']['northeast']['lat']\n",
    "    lng = response1['results'][0]['geometry']['bounds']['northeast']['lng']\n",
    "    return (lat,lng)\n",
    "\n",
    "def get_value (value,index):\n",
    "    return value[index]#value[index]\n",
    "data['D_D']=data['place'].apply(D_D)\n",
    "data['Distance_km']=data.apply(lambda row: get_value(row['D_D'],0), axis=1)\n",
    "data['Duration']=data.apply(lambda row: get_value(row['D_D'],1), axis=1)\n",
    "data['L_L']=data['place'].apply(L_L)\n",
    "data['latitude']=data.apply(lambda row: get_value(row['L_L'],1), axis=1)\n",
    "data['Longitude']=data.apply(lambda row: get_value(row['L_L'],0), axis=1)\n",
    "data=data.drop(columns=['D_D','L_L'])"
   ]
  },
  {
   "cell_type": "code",
   "execution_count": 97,
   "id": "described-allen",
   "metadata": {},
   "outputs": [
    {
     "name": "stdout",
     "output_type": "stream",
     "text": [
      "       place Distance_km          Duration   latitude  Longitude\n",
      "0   Istanbul    1,815 km   21 hours 3 mins  29.428805  41.199239\n",
      "1  Amsterdam    4,533 km    2 days 0 hours   5.108020  52.431157\n",
      "2   Valletta    3,793 km    2 days 3 hours  14.520482  35.903686\n",
      "3      Basel    4,093 km    1 day 20 hours   7.634148  47.589902\n",
      "4       Doha    2,164 km  22 hours 39 mins  51.628121  25.412578\n"
     ]
    }
   ],
   "source": [
    "print(data)"
   ]
  },
  {
   "cell_type": "code",
   "execution_count": 100,
   "id": "loose-hebrew",
   "metadata": {},
   "outputs": [
    {
     "data": {
      "text/plain": [
       "1    Amsterdam\n",
       "3        Basel\n",
       "2     Valletta\n",
       "Name: place, dtype: object"
      ]
     },
     "execution_count": 100,
     "metadata": {},
     "output_type": "execute_result"
    }
   ],
   "source": [
    "q2=data.sort_values(by=['Distance_km'], ascending=False)\n",
    "q2.place.head(3)"
   ]
  },
  {
   "cell_type": "code",
   "execution_count": null,
   "id": "elect-automation",
   "metadata": {},
   "outputs": [],
   "source": []
  }
 ],
 "metadata": {
  "kernelspec": {
   "display_name": "Python 3",
   "language": "python",
   "name": "python3"
  },
  "language_info": {
   "codemirror_mode": {
    "name": "ipython",
    "version": 3
   },
   "file_extension": ".py",
   "mimetype": "text/x-python",
   "name": "python",
   "nbconvert_exporter": "python",
   "pygments_lexer": "ipython3",
   "version": "3.9.0"
  }
 },
 "nbformat": 4,
 "nbformat_minor": 5
}
